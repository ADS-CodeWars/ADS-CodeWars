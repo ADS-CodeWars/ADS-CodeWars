{
 "cells": [
  {
   "cell_type": "markdown",
   "metadata": {},
   "source": [
    "## <u>Assignment</u>\n",
    "\n",
    "### Data Structures\n",
    "\n",
    "The __*Data Structures*__ part of this assignment can be accessed from https://www.hackerrank.com/domains/python?filters%5Bskills%5D%5B%5D=Python%20%28Basic%29\n",
    "\n",
    "Do as many of these questions as you can, but only post those problems that you are unable to solve. Ensure that you post the name of the problem that you are solving in a Markdown cell, and then post your solution to the answer in a code cell below.\n",
    "\n",
    "I advise you to use Google judiciously when thinking of solutions to these problems. By this I mean, try to only use Google to find out how to perform a step that you think is necessary to obtaining a solution. Don't cop out by searching for the entire problem's solution if you can avoid it. \n",
    "\n",
    "### Problem Solving\n",
    "\n",
    "The __*Problem Solving*__ questions posted in this notebook are obtained from CodeWars, and as such, there will be a link attached to each question where you can test if your solution to the problem is correct. \n",
    "\n",
    "Regardless of whether your solutions to the questions pass the tests or not, I want to see your answer to the problem. \n",
    "\n",
    "## <u>Submission Instructions</u>\n",
    "\n",
    "Post the notebook where you have attempted the problems to a branch __titled with your name__ to the following repository:\n",
    "https://github.com/ADS-CodeWars/ADS-CodeWars.git\n",
    "\n",
    "You should clone the above repository to your GitHub Desktop, as well as https://github.com/Africa-Data-School/Data-Analysis-Sep.git, where you shall find all notes that pertain to our class."
   ]
  },
  {
   "cell_type": "markdown",
   "metadata": {},
   "source": [
    "# Data Structures "
   ]
  },
  {
   "cell_type": "markdown",
   "metadata": {},
   "source": [
    "### Question title\n",
    "\n",
    "Question url: ............... "
   ]
  },
  {
   "cell_type": "code",
   "execution_count": null,
   "metadata": {},
   "outputs": [],
   "source": [
    "# your code"
   ]
  },
  {
   "cell_type": "markdown",
   "metadata": {},
   "source": [
    "### Question title\n",
    "\n",
    "Question url: ............... "
   ]
  },
  {
   "cell_type": "code",
   "execution_count": null,
   "metadata": {},
   "outputs": [],
   "source": [
    "# your code"
   ]
  },
  {
   "cell_type": "markdown",
   "metadata": {},
   "source": [
    "# Problem Solving"
   ]
  },
  {
   "cell_type": "markdown",
   "metadata": {},
   "source": [
    "### Do I get a bonus?\n",
    "\n",
    "It's bonus time in the big city! The fatcats are rubbing their paws in anticipation... but who is going to make the most money?\n",
    "\n",
    "Build a function that takes in two arguments (salary, bonus). Salary will be an integer, and bonus a boolean.\n",
    "\n",
    "If bonus is true, the salary should be multiplied by 10. If bonus is false, the fatcat did not make enough money and must receive only his stated salary.\n",
    "\n",
    "Return the total figure the individual will receive as a string prefixed with \"$\".\n",
    "\n"
   ]
  },
  {
   "cell_type": "code",
   "execution_count": null,
   "metadata": {},
   "outputs": [],
   "source": [
    "def bonus_time(salary, bonus):\n",
    "    #your code here"
   ]
  },
  {
   "cell_type": "markdown",
   "metadata": {},
   "source": [
    "### Add Length\n",
    "\n",
    "What if we need the length of the words separated by a space to be added at the end of that same word and have it returned as an array?\n",
    "\n",
    "add_length('apple ban') => [\"apple 5\", \"ban 3\"]\n",
    "\n",
    "add_length('you will win') => [\"you 3\", \"will 4\", \"win 3\"]\n",
    "\n",
    "Your task is to write a function that takes a String and returns an Array/list with the length of each word added to each element .\n",
    "\n",
    "Note: String will have at least one element; words will always be separated by a space.\n",
    "\n",
    "https://www.codewars.com/kata/559d2284b5bb6799e9000047/train/python"
   ]
  },
  {
   "cell_type": "code",
   "execution_count": null,
   "metadata": {},
   "outputs": [],
   "source": [
    "def add_length(str_):\n",
    "    #your code here"
   ]
  },
  {
   "cell_type": "markdown",
   "metadata": {},
   "source": [
    "### Is it a number?\n",
    "\n",
    "Given a string s, write a method (function) that will return true if its a valid single integer or floating number or false if its not.\n",
    "\n",
    "Valid examples that should return __True__:\n",
    "\n",
    "isDigit(\"3\")\n",
    "\n",
    "isDigit(\"  3  \")\n",
    "\n",
    "isDigit(\"-3.23\")\n",
    "\n",
    "Invalid examples that should return __False__:\n",
    "\n",
    "isDigit(\"3-4\")\n",
    "\n",
    "isDigit(\"  3   5\")\n",
    "\n",
    "isDigit(\"3 5\")\n",
    "\n",
    "isDigit(\"zero\")\n",
    "\n",
    "https://www.codewars.com/kata/57126304cdbf63c6770012bd/train/python"
   ]
  },
  {
   "cell_type": "code",
   "execution_count": null,
   "metadata": {},
   "outputs": [],
   "source": [
    "def isDigit(string):\n",
    "    #your code here"
   ]
  },
  {
   "cell_type": "markdown",
   "metadata": {},
   "source": [
    "### Unique In Order\n",
    "\n",
    "Implement the function unique_in_order which takes as argument a sequence and returns a list of items without any elements with the same value next to each other and preserving the original order of elements.\n",
    "\n",
    "For example:\n",
    "\n",
    "unique_in_order('AAAABBBCCDAABBB') == ['A', 'B', 'C', 'D', 'A', 'B']\n",
    "unique_in_order('ABBCcAD')         == ['A', 'B', 'C', 'c', 'A', 'D']\n",
    "unique_in_order([1,2,2,3,3])       == [1,2,3]\n",
    "\n",
    "https://www.codewars.com/kata/54e6533c92449cc251001667/train/python"
   ]
  },
  {
   "cell_type": "code",
   "execution_count": null,
   "metadata": {},
   "outputs": [],
   "source": [
    "def unique_in_order(iterable):\n",
    "    #your code here"
   ]
  }
 ],
 "metadata": {
  "kernelspec": {
   "display_name": "Python 3",
   "language": "python",
   "name": "python3"
  },
  "language_info": {
   "codemirror_mode": {
    "name": "ipython",
    "version": 3
   },
   "file_extension": ".py",
   "mimetype": "text/x-python",
   "name": "python",
   "nbconvert_exporter": "python",
   "pygments_lexer": "ipython3",
   "version": "3.8.5"
  },
  "toc": {
   "base_numbering": 1,
   "nav_menu": {},
   "number_sections": true,
   "sideBar": true,
   "skip_h1_title": false,
   "title_cell": "Table of Contents",
   "title_sidebar": "Contents",
   "toc_cell": false,
   "toc_position": {},
   "toc_section_display": true,
   "toc_window_display": false
  },
  "varInspector": {
   "cols": {
    "lenName": 16,
    "lenType": 16,
    "lenVar": 40
   },
   "kernels_config": {
    "python": {
     "delete_cmd_postfix": "",
     "delete_cmd_prefix": "del ",
     "library": "var_list.py",
     "varRefreshCmd": "print(var_dic_list())"
    },
    "r": {
     "delete_cmd_postfix": ") ",
     "delete_cmd_prefix": "rm(",
     "library": "var_list.r",
     "varRefreshCmd": "cat(var_dic_list()) "
    }
   },
   "types_to_exclude": [
    "module",
    "function",
    "builtin_function_or_method",
    "instance",
    "_Feature"
   ],
   "window_display": false
  }
 },
 "nbformat": 4,
 "nbformat_minor": 4
}
